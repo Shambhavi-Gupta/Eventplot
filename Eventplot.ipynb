{
  "nbformat": 4,
  "nbformat_minor": 0,
  "metadata": {
    "colab": {
      "name": "Eventplot.ipynb",
      "provenance": [],
      "authorship_tag": "ABX9TyN7d3vm6GQGEyHIRSEfKDcU",
      "include_colab_link": true
    },
    "kernelspec": {
      "name": "python3",
      "display_name": "Python 3"
    }
  },
  "cells": [
    {
      "cell_type": "markdown",
      "metadata": {
        "id": "view-in-github",
        "colab_type": "text"
      },
      "source": [
        "<a href=\"https://colab.research.google.com/github/Shambhavi-Gupta/Eventplot/blob/master/Eventplot.ipynb\" target=\"_parent\"><img src=\"https://colab.research.google.com/assets/colab-badge.svg\" alt=\"Open In Colab\"/></a>"
      ]
    },
    {
      "cell_type": "code",
      "metadata": {
        "id": "fES0nxK0MxEi",
        "colab_type": "code",
        "colab": {
          "base_uri": "https://localhost:8080/",
          "height": 264
        },
        "outputId": "4d74ebcf-2412-4dc9-a34d-640c67c826a6"
      },
      "source": [
        "import matplotlib.pyplot as plt\n",
        "import numpy as np\n",
        "import matplotlib\n",
        "matplotlib.rcParams['font.size'] = 8.0\n",
        "\n",
        "# Fixing random state for reproducibility\n",
        "np.random.seed(19680801)\n",
        "\n",
        "\n",
        "# create random data\n",
        "data1 = np.random.random([6, 50])\n",
        "\n",
        "# set different colors for each set of positions\n",
        "colors1 = ['C{}'.format(i) for i in range(6)]\n",
        "\n",
        "# set different line properties for each set of positions\n",
        "# note that some overlap\n",
        "lineoffsets1 = [-15, -3, 1, 1.5, 6, 10]\n",
        "linelengths1 = [5, 2, 1, 1, 3, 1.5]\n",
        "\n",
        "fig, axs = plt.subplots(2, 2)\n",
        "\n",
        "# create a horizontal plot\n",
        "axs[0, 0].eventplot(data1, colors=colors1, lineoffsets=lineoffsets1,\n",
        "                    linelengths=linelengths1)\n",
        "\n",
        "# create a vertical plot\n",
        "axs[1, 0].eventplot(data1, colors=colors1, lineoffsets=lineoffsets1,\n",
        "                    linelengths=linelengths1, orientation='vertical')\n",
        "\n",
        "# create another set of random data.\n",
        "# the gamma distribution is only used for aesthetic purposes\n",
        "data2 = np.random.gamma(4, size=[60, 50])\n",
        "\n",
        "# use individual values for the parameters this time\n",
        "# these values will be used for all data sets (except lineoffsets2, which\n",
        "# sets the increment between each data set in this usage)\n",
        "colors2 = 'black'\n",
        "lineoffsets2 = 1\n",
        "linelengths2 = 1\n",
        "\n",
        "# create a horizontal plot\n",
        "axs[0, 1].eventplot(data2, colors=colors2, lineoffsets=lineoffsets2,\n",
        "                    linelengths=linelengths2)\n",
        "\n",
        "\n",
        "# create a vertical plot\n",
        "axs[1, 1].eventplot(data2, colors=colors2, lineoffsets=lineoffsets2,\n",
        "                    linelengths=linelengths2, orientation='vertical')\n",
        "\n",
        "plt.show()"
      ],
      "execution_count": 1,
      "outputs": [
        {
          "output_type": "display_data",
          "data": {
            "image/png": "[encoded data removed]",
            "text/plain": [
              "<Figure size 432x288 with 4 Axes>"
            ]
          },
          "metadata": {
            "tags": [],
            "needs_background": "light"
          }
        }
      ]
    },
    {
      "cell_type": "code",
      "metadata": {
        "id": "kg1kcSzXM6T3",
        "colab_type": "code",
        "colab": {}
      },
      "source": [
        ""
      ],
      "execution_count": null,
      "outputs": []
    }
  ]
}